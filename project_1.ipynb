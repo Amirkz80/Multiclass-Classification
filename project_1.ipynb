{
 "cells": [
  {
   "cell_type": "code",
   "execution_count": 221,
   "id": "a84e6ca3",
   "metadata": {
    "id": "a84e6ca3"
   },
   "outputs": [],
   "source": [
    "import pandas as pd\n",
    "import numpy as np\n",
    "import matplotlib.pyplot as plt\n",
    "\n",
    "from sklearn.model_selection import train_test_split\n",
    "from sklearn.preprocessing import StandardScaler\n",
    "from sklearn.neighbors import KNeighborsClassifier\n",
    "from sklearn.metrics import accuracy_score"
   ]
  },
  {
   "cell_type": "code",
   "execution_count": 222,
   "id": "4c6d6d0a",
   "metadata": {
    "colab": {
     "base_uri": "https://localhost:8080/"
    },
    "id": "4c6d6d0a",
    "outputId": "bad52c47-36f2-4638-f7b5-3a8247cba954"
   },
   "outputs": [
    {
     "data": {
      "text/plain": [
       "['X', 'y']"
      ]
     },
     "execution_count": 222,
     "metadata": {},
     "output_type": "execute_result"
    }
   ],
   "source": [
    "data = np.load('mnist.npz')\n",
    "\n",
    "data.files # The list containing files"
   ]
  },
  {
   "cell_type": "code",
   "execution_count": 223,
   "id": "35055802-4801-4fb5-b2e4-f48724002d4a",
   "metadata": {
    "colab": {
     "base_uri": "https://localhost:8080/",
     "height": 423
    },
    "id": "35055802-4801-4fb5-b2e4-f48724002d4a",
    "outputId": "20c3694a-63ae-4d9a-c785-57fe0164fcf2"
   },
   "outputs": [
    {
     "data": {
      "text/html": [
       "<div>\n",
       "<style scoped>\n",
       "    .dataframe tbody tr th:only-of-type {\n",
       "        vertical-align: middle;\n",
       "    }\n",
       "\n",
       "    .dataframe tbody tr th {\n",
       "        vertical-align: top;\n",
       "    }\n",
       "\n",
       "    .dataframe thead th {\n",
       "        text-align: right;\n",
       "    }\n",
       "</style>\n",
       "<table border=\"1\" class=\"dataframe\">\n",
       "  <thead>\n",
       "    <tr style=\"text-align: right;\">\n",
       "      <th></th>\n",
       "      <th>0</th>\n",
       "      <th>1</th>\n",
       "      <th>2</th>\n",
       "      <th>3</th>\n",
       "      <th>4</th>\n",
       "      <th>5</th>\n",
       "      <th>6</th>\n",
       "      <th>7</th>\n",
       "      <th>8</th>\n",
       "      <th>9</th>\n",
       "      <th>...</th>\n",
       "      <th>775</th>\n",
       "      <th>776</th>\n",
       "      <th>777</th>\n",
       "      <th>778</th>\n",
       "      <th>779</th>\n",
       "      <th>780</th>\n",
       "      <th>781</th>\n",
       "      <th>782</th>\n",
       "      <th>783</th>\n",
       "      <th>number</th>\n",
       "    </tr>\n",
       "  </thead>\n",
       "  <tbody>\n",
       "    <tr>\n",
       "      <th>0</th>\n",
       "      <td>0</td>\n",
       "      <td>0</td>\n",
       "      <td>0</td>\n",
       "      <td>0</td>\n",
       "      <td>0</td>\n",
       "      <td>0</td>\n",
       "      <td>0</td>\n",
       "      <td>0</td>\n",
       "      <td>0</td>\n",
       "      <td>0</td>\n",
       "      <td>...</td>\n",
       "      <td>0</td>\n",
       "      <td>0</td>\n",
       "      <td>0</td>\n",
       "      <td>0</td>\n",
       "      <td>0</td>\n",
       "      <td>0</td>\n",
       "      <td>0</td>\n",
       "      <td>0</td>\n",
       "      <td>0</td>\n",
       "      <td>0.0</td>\n",
       "    </tr>\n",
       "    <tr>\n",
       "      <th>1</th>\n",
       "      <td>0</td>\n",
       "      <td>0</td>\n",
       "      <td>0</td>\n",
       "      <td>0</td>\n",
       "      <td>0</td>\n",
       "      <td>0</td>\n",
       "      <td>0</td>\n",
       "      <td>0</td>\n",
       "      <td>0</td>\n",
       "      <td>0</td>\n",
       "      <td>...</td>\n",
       "      <td>0</td>\n",
       "      <td>0</td>\n",
       "      <td>0</td>\n",
       "      <td>0</td>\n",
       "      <td>0</td>\n",
       "      <td>0</td>\n",
       "      <td>0</td>\n",
       "      <td>0</td>\n",
       "      <td>0</td>\n",
       "      <td>0.0</td>\n",
       "    </tr>\n",
       "    <tr>\n",
       "      <th>2</th>\n",
       "      <td>0</td>\n",
       "      <td>0</td>\n",
       "      <td>0</td>\n",
       "      <td>0</td>\n",
       "      <td>0</td>\n",
       "      <td>0</td>\n",
       "      <td>0</td>\n",
       "      <td>0</td>\n",
       "      <td>0</td>\n",
       "      <td>0</td>\n",
       "      <td>...</td>\n",
       "      <td>0</td>\n",
       "      <td>0</td>\n",
       "      <td>0</td>\n",
       "      <td>0</td>\n",
       "      <td>0</td>\n",
       "      <td>0</td>\n",
       "      <td>0</td>\n",
       "      <td>0</td>\n",
       "      <td>0</td>\n",
       "      <td>0.0</td>\n",
       "    </tr>\n",
       "    <tr>\n",
       "      <th>3</th>\n",
       "      <td>0</td>\n",
       "      <td>0</td>\n",
       "      <td>0</td>\n",
       "      <td>0</td>\n",
       "      <td>0</td>\n",
       "      <td>0</td>\n",
       "      <td>0</td>\n",
       "      <td>0</td>\n",
       "      <td>0</td>\n",
       "      <td>0</td>\n",
       "      <td>...</td>\n",
       "      <td>0</td>\n",
       "      <td>0</td>\n",
       "      <td>0</td>\n",
       "      <td>0</td>\n",
       "      <td>0</td>\n",
       "      <td>0</td>\n",
       "      <td>0</td>\n",
       "      <td>0</td>\n",
       "      <td>0</td>\n",
       "      <td>0.0</td>\n",
       "    </tr>\n",
       "    <tr>\n",
       "      <th>4</th>\n",
       "      <td>0</td>\n",
       "      <td>0</td>\n",
       "      <td>0</td>\n",
       "      <td>0</td>\n",
       "      <td>0</td>\n",
       "      <td>0</td>\n",
       "      <td>0</td>\n",
       "      <td>0</td>\n",
       "      <td>0</td>\n",
       "      <td>0</td>\n",
       "      <td>...</td>\n",
       "      <td>0</td>\n",
       "      <td>0</td>\n",
       "      <td>0</td>\n",
       "      <td>0</td>\n",
       "      <td>0</td>\n",
       "      <td>0</td>\n",
       "      <td>0</td>\n",
       "      <td>0</td>\n",
       "      <td>0</td>\n",
       "      <td>0.0</td>\n",
       "    </tr>\n",
       "    <tr>\n",
       "      <th>...</th>\n",
       "      <td>...</td>\n",
       "      <td>...</td>\n",
       "      <td>...</td>\n",
       "      <td>...</td>\n",
       "      <td>...</td>\n",
       "      <td>...</td>\n",
       "      <td>...</td>\n",
       "      <td>...</td>\n",
       "      <td>...</td>\n",
       "      <td>...</td>\n",
       "      <td>...</td>\n",
       "      <td>...</td>\n",
       "      <td>...</td>\n",
       "      <td>...</td>\n",
       "      <td>...</td>\n",
       "      <td>...</td>\n",
       "      <td>...</td>\n",
       "      <td>...</td>\n",
       "      <td>...</td>\n",
       "      <td>...</td>\n",
       "      <td>...</td>\n",
       "    </tr>\n",
       "    <tr>\n",
       "      <th>59995</th>\n",
       "      <td>0</td>\n",
       "      <td>0</td>\n",
       "      <td>0</td>\n",
       "      <td>0</td>\n",
       "      <td>0</td>\n",
       "      <td>0</td>\n",
       "      <td>0</td>\n",
       "      <td>0</td>\n",
       "      <td>0</td>\n",
       "      <td>0</td>\n",
       "      <td>...</td>\n",
       "      <td>0</td>\n",
       "      <td>0</td>\n",
       "      <td>0</td>\n",
       "      <td>0</td>\n",
       "      <td>0</td>\n",
       "      <td>0</td>\n",
       "      <td>0</td>\n",
       "      <td>0</td>\n",
       "      <td>0</td>\n",
       "      <td>9.0</td>\n",
       "    </tr>\n",
       "    <tr>\n",
       "      <th>59996</th>\n",
       "      <td>0</td>\n",
       "      <td>0</td>\n",
       "      <td>0</td>\n",
       "      <td>0</td>\n",
       "      <td>0</td>\n",
       "      <td>0</td>\n",
       "      <td>0</td>\n",
       "      <td>0</td>\n",
       "      <td>0</td>\n",
       "      <td>0</td>\n",
       "      <td>...</td>\n",
       "      <td>0</td>\n",
       "      <td>0</td>\n",
       "      <td>0</td>\n",
       "      <td>0</td>\n",
       "      <td>0</td>\n",
       "      <td>0</td>\n",
       "      <td>0</td>\n",
       "      <td>0</td>\n",
       "      <td>0</td>\n",
       "      <td>9.0</td>\n",
       "    </tr>\n",
       "    <tr>\n",
       "      <th>59997</th>\n",
       "      <td>0</td>\n",
       "      <td>0</td>\n",
       "      <td>0</td>\n",
       "      <td>0</td>\n",
       "      <td>0</td>\n",
       "      <td>0</td>\n",
       "      <td>0</td>\n",
       "      <td>0</td>\n",
       "      <td>0</td>\n",
       "      <td>0</td>\n",
       "      <td>...</td>\n",
       "      <td>0</td>\n",
       "      <td>0</td>\n",
       "      <td>0</td>\n",
       "      <td>0</td>\n",
       "      <td>0</td>\n",
       "      <td>0</td>\n",
       "      <td>0</td>\n",
       "      <td>0</td>\n",
       "      <td>0</td>\n",
       "      <td>9.0</td>\n",
       "    </tr>\n",
       "    <tr>\n",
       "      <th>59998</th>\n",
       "      <td>0</td>\n",
       "      <td>0</td>\n",
       "      <td>0</td>\n",
       "      <td>0</td>\n",
       "      <td>0</td>\n",
       "      <td>0</td>\n",
       "      <td>0</td>\n",
       "      <td>0</td>\n",
       "      <td>0</td>\n",
       "      <td>0</td>\n",
       "      <td>...</td>\n",
       "      <td>0</td>\n",
       "      <td>0</td>\n",
       "      <td>0</td>\n",
       "      <td>0</td>\n",
       "      <td>0</td>\n",
       "      <td>0</td>\n",
       "      <td>0</td>\n",
       "      <td>0</td>\n",
       "      <td>0</td>\n",
       "      <td>9.0</td>\n",
       "    </tr>\n",
       "    <tr>\n",
       "      <th>59999</th>\n",
       "      <td>0</td>\n",
       "      <td>0</td>\n",
       "      <td>0</td>\n",
       "      <td>0</td>\n",
       "      <td>0</td>\n",
       "      <td>0</td>\n",
       "      <td>0</td>\n",
       "      <td>0</td>\n",
       "      <td>0</td>\n",
       "      <td>0</td>\n",
       "      <td>...</td>\n",
       "      <td>0</td>\n",
       "      <td>0</td>\n",
       "      <td>0</td>\n",
       "      <td>0</td>\n",
       "      <td>0</td>\n",
       "      <td>0</td>\n",
       "      <td>0</td>\n",
       "      <td>0</td>\n",
       "      <td>0</td>\n",
       "      <td>9.0</td>\n",
       "    </tr>\n",
       "  </tbody>\n",
       "</table>\n",
       "<p>60000 rows × 785 columns</p>\n",
       "</div>"
      ],
      "text/plain": [
       "       0  1  2  3  4  5  6  7  8  9  ...  775  776  777  778  779  780  781  \\\n",
       "0      0  0  0  0  0  0  0  0  0  0  ...    0    0    0    0    0    0    0   \n",
       "1      0  0  0  0  0  0  0  0  0  0  ...    0    0    0    0    0    0    0   \n",
       "2      0  0  0  0  0  0  0  0  0  0  ...    0    0    0    0    0    0    0   \n",
       "3      0  0  0  0  0  0  0  0  0  0  ...    0    0    0    0    0    0    0   \n",
       "4      0  0  0  0  0  0  0  0  0  0  ...    0    0    0    0    0    0    0   \n",
       "...   .. .. .. .. .. .. .. .. .. ..  ...  ...  ...  ...  ...  ...  ...  ...   \n",
       "59995  0  0  0  0  0  0  0  0  0  0  ...    0    0    0    0    0    0    0   \n",
       "59996  0  0  0  0  0  0  0  0  0  0  ...    0    0    0    0    0    0    0   \n",
       "59997  0  0  0  0  0  0  0  0  0  0  ...    0    0    0    0    0    0    0   \n",
       "59998  0  0  0  0  0  0  0  0  0  0  ...    0    0    0    0    0    0    0   \n",
       "59999  0  0  0  0  0  0  0  0  0  0  ...    0    0    0    0    0    0    0   \n",
       "\n",
       "       782  783  number  \n",
       "0        0    0     0.0  \n",
       "1        0    0     0.0  \n",
       "2        0    0     0.0  \n",
       "3        0    0     0.0  \n",
       "4        0    0     0.0  \n",
       "...    ...  ...     ...  \n",
       "59995    0    0     9.0  \n",
       "59996    0    0     9.0  \n",
       "59997    0    0     9.0  \n",
       "59998    0    0     9.0  \n",
       "59999    0    0     9.0  \n",
       "\n",
       "[60000 rows x 785 columns]"
      ]
     },
     "execution_count": 223,
     "metadata": {},
     "output_type": "execute_result"
    }
   ],
   "source": [
    "x = pd.DataFrame(data['X'])\n",
    "y = pd.DataFrame(data['y'])\n",
    "\n",
    "# Swapping columns and rows and creating dataset DataFrame\n",
    "dataset = x.T\n",
    "\n",
    "# Appending classes values to the dataset\n",
    "dataset['number'] = y.T\n",
    "\n",
    "dataset"
   ]
  },
  {
   "cell_type": "code",
   "execution_count": 224,
   "id": "d8292832",
   "metadata": {
    "colab": {
     "base_uri": "https://localhost:8080/",
     "height": 370
    },
    "id": "d8292832",
    "outputId": "52d52f73-fb3e-4046-b49f-61c55f4bdc6c"
   },
   "outputs": [
    {
     "data": {
      "image/png": "[encoded data removed]",
      "text/plain": [
       "<Figure size 1500x500 with 11 Axes>"
      ]
     },
     "metadata": {},
     "output_type": "display_data"
    }
   ],
   "source": [
    "plt.figure(figsize=(15, 5))\n",
    "classes = y.values[0]\n",
    "\n",
    "j = 0\n",
    "for i in range(0, 60001, 5900):\n",
    "    plt.subplot(2, 6, j+1)\n",
    "    j += 1\n",
    "    plt.imshow(dataset.iloc[i, :-1].values.reshape(28, 28), cmap='gray')\n",
    "    plt.title(f'label = {classes[i]}')\n",
    "    plt.axis('off')"
   ]
  },
  {
   "cell_type": "code",
   "execution_count": 225,
   "id": "16bac788",
   "metadata": {
    "id": "16bac788"
   },
   "outputs": [],
   "source": [
    "# Spliting datset into test and train dataframes\n",
    "X_train, X_test, y_train, y_test = train_test_split(dataset.iloc[:, :-1], dataset['number'], test_size = 0.25, random_state=0)"
   ]
  },
  {
   "cell_type": "code",
   "execution_count": 226,
   "id": "1e2913e3",
   "metadata": {
    "colab": {
     "base_uri": "https://localhost:8080/",
     "height": 448
    },
    "id": "1e2913e3",
    "outputId": "a0291c86-2ab7-4101-f843-fbbc99eca529"
   },
   "outputs": [
    {
     "data": {
      "text/plain": [
       "<matplotlib.image.AxesImage at 0x1aea2dd6f80>"
      ]
     },
     "execution_count": 226,
     "metadata": {},
     "output_type": "execute_result"
    },
    {
     "data": {
      "image/png": "[encoded data removed]",
      "text/plain": [
       "<Figure size 640x480 with 1 Axes>"
      ]
     },
     "metadata": {},
     "output_type": "display_data"
    }
   ],
   "source": [
    "# Using scaler to fit and transform input data\n",
    "scaler = StandardScaler()\n",
    "\n",
    "scaler.fit(X_train)\n",
    "\n",
    "X_train_scaled = scaler.transform(X_train)\n",
    "X_test_scaled = scaler.transform(X_test)\n",
    "\n",
    "plt.imshow(X_train_scaled[0].reshape((28, 28)), cmap='gray')"
   ]
  },
  {
   "cell_type": "code",
   "execution_count": 227,
   "id": "08e71740-4b88-4af1-a1a3-8e4106f9f7ff",
   "metadata": {
    "colab": {
     "base_uri": "https://localhost:8080/",
     "height": 74
    },
    "id": "08e71740-4b88-4af1-a1a3-8e4106f9f7ff",
    "outputId": "8ad30808-a70d-436f-d88c-5c01a683fa67"
   },
   "outputs": [
    {
     "data": {
      "text/html": [
       "<style>#sk-container-id-3 {color: black;background-color: white;}#sk-container-id-3 pre{padding: 0;}#sk-container-id-3 div.sk-toggleable {background-color: white;}#sk-container-id-3 label.sk-toggleable__label {cursor: pointer;display: block;width: 100%;margin-bottom: 0;padding: 0.3em;box-sizing: border-box;text-align: center;}#sk-container-id-3 label.sk-toggleable__label-arrow:before {content: \"▸\";float: left;margin-right: 0.25em;color: #696969;}#sk-container-id-3 label.sk-toggleable__label-arrow:hover:before {color: black;}#sk-container-id-3 div.sk-estimator:hover label.sk-toggleable__label-arrow:before {color: black;}#sk-container-id-3 div.sk-toggleable__content {max-height: 0;max-width: 0;overflow: hidden;text-align: left;background-color: #f0f8ff;}#sk-container-id-3 div.sk-toggleable__content pre {margin: 0.2em;color: black;border-radius: 0.25em;background-color: #f0f8ff;}#sk-container-id-3 input.sk-toggleable__control:checked~div.sk-toggleable__content {max-height: 200px;max-width: 100%;overflow: auto;}#sk-container-id-3 input.sk-toggleable__control:checked~label.sk-toggleable__label-arrow:before {content: \"▾\";}#sk-container-id-3 div.sk-estimator input.sk-toggleable__control:checked~label.sk-toggleable__label {background-color: #d4ebff;}#sk-container-id-3 div.sk-label input.sk-toggleable__control:checked~label.sk-toggleable__label {background-color: #d4ebff;}#sk-container-id-3 input.sk-hidden--visually {border: 0;clip: rect(1px 1px 1px 1px);clip: rect(1px, 1px, 1px, 1px);height: 1px;margin: -1px;overflow: hidden;padding: 0;position: absolute;width: 1px;}#sk-container-id-3 div.sk-estimator {font-family: monospace;background-color: #f0f8ff;border: 1px dotted black;border-radius: 0.25em;box-sizing: border-box;margin-bottom: 0.5em;}#sk-container-id-3 div.sk-estimator:hover {background-color: #d4ebff;}#sk-container-id-3 div.sk-parallel-item::after {content: \"\";width: 100%;border-bottom: 1px solid gray;flex-grow: 1;}#sk-container-id-3 div.sk-label:hover label.sk-toggleable__label {background-color: #d4ebff;}#sk-container-id-3 div.sk-serial::before {content: \"\";position: absolute;border-left: 1px solid gray;box-sizing: border-box;top: 0;bottom: 0;left: 50%;z-index: 0;}#sk-container-id-3 div.sk-serial {display: flex;flex-direction: column;align-items: center;background-color: white;padding-right: 0.2em;padding-left: 0.2em;position: relative;}#sk-container-id-3 div.sk-item {position: relative;z-index: 1;}#sk-container-id-3 div.sk-parallel {display: flex;align-items: stretch;justify-content: center;background-color: white;position: relative;}#sk-container-id-3 div.sk-item::before, #sk-container-id-3 div.sk-parallel-item::before {content: \"\";position: absolute;border-left: 1px solid gray;box-sizing: border-box;top: 0;bottom: 0;left: 50%;z-index: -1;}#sk-container-id-3 div.sk-parallel-item {display: flex;flex-direction: column;z-index: 1;position: relative;background-color: white;}#sk-container-id-3 div.sk-parallel-item:first-child::after {align-self: flex-end;width: 50%;}#sk-container-id-3 div.sk-parallel-item:last-child::after {align-self: flex-start;width: 50%;}#sk-container-id-3 div.sk-parallel-item:only-child::after {width: 0;}#sk-container-id-3 div.sk-dashed-wrapped {border: 1px dashed gray;margin: 0 0.4em 0.5em 0.4em;box-sizing: border-box;padding-bottom: 0.4em;background-color: white;}#sk-container-id-3 div.sk-label label {font-family: monospace;font-weight: bold;display: inline-block;line-height: 1.2em;}#sk-container-id-3 div.sk-label-container {text-align: center;}#sk-container-id-3 div.sk-container {/* jupyter's `normalize.less` sets `[hidden] { display: none; }` but bootstrap.min.css set `[hidden] { display: none !important; }` so we also need the `!important` here to be able to override the default hidden behavior on the sphinx rendered scikit-learn.org. See: https://github.com/scikit-learn/scikit-learn/issues/21755 */display: inline-block !important;position: relative;}#sk-container-id-3 div.sk-text-repr-fallback {display: none;}</style><div id=\"sk-container-id-3\" class=\"sk-top-container\"><div class=\"sk-text-repr-fallback\"><pre>KNeighborsClassifier(n_neighbors=1)</pre><b>In a Jupyter environment, please rerun this cell to show the HTML representation or trust the notebook. <br />On GitHub, the HTML representation is unable to render, please try loading this page with nbviewer.org.</b></div><div class=\"sk-container\" hidden><div class=\"sk-item\"><div class=\"sk-estimator sk-toggleable\"><input class=\"sk-toggleable__control sk-hidden--visually\" id=\"sk-estimator-id-3\" type=\"checkbox\" checked><label for=\"sk-estimator-id-3\" class=\"sk-toggleable__label sk-toggleable__label-arrow\">KNeighborsClassifier</label><div class=\"sk-toggleable__content\"><pre>KNeighborsClassifier(n_neighbors=1)</pre></div></div></div></div></div>"
      ],
      "text/plain": [
       "KNeighborsClassifier(n_neighbors=1)"
      ]
     },
     "execution_count": 227,
     "metadata": {},
     "output_type": "execute_result"
    }
   ],
   "source": [
    "# Train the model and Classify data by using KNN\n",
    "\n",
    "knn = KNeighborsClassifier(n_neighbors=1)\n",
    "\n",
    "knn.fit(X_train_scaled, y_train)"
   ]
  },
  {
   "cell_type": "code",
   "execution_count": 228,
   "id": "17e7b000-a5ba-4d93-bdad-b2e164765826",
   "metadata": {
    "colab": {
     "base_uri": "https://localhost:8080/"
    },
    "id": "17e7b000-a5ba-4d93-bdad-b2e164765826",
    "outputId": "8767de4f-b478-478b-f1ee-2820ce079567"
   },
   "outputs": [
    {
     "name": "stdout",
     "output_type": "stream",
     "text": [
      "Accuracy on training set:  1.0\n",
      "Accuracy on test set:  0.9430666666666667\n"
     ]
    }
   ],
   "source": [
    "y_pred_train = knn.predict(X_train_scaled)\n",
    "y_pred_test = knn.predict(X_test_scaled)\n",
    "\n",
    "print('Accuracy on training set: ', accuracy_score(y_pred_train, y_train))\n",
    "print('Accuracy on test set: ', accuracy_score(y_pred_test, y_test))"
   ]
  },
  {
   "cell_type": "code",
   "execution_count": 229,
   "id": "8ea7e560-08ce-4f9c-a9be-e0e394a52765",
   "metadata": {
    "id": "8ea7e560-08ce-4f9c-a9be-e0e394a52765"
   },
   "outputs": [
    {
     "data": {
      "text/plain": [
       "{1: [array([0., 5., 5., ..., 7., 7., 0.]),\n",
       "  array([0., 3., 9., ..., 4., 4., 9.])],\n",
       " 3: [array([0., 5., 5., ..., 7., 7., 0.]),\n",
       "  array([0., 3., 9., ..., 4., 7., 9.])],\n",
       " 5: [array([0., 5., 5., ..., 7., 7., 0.]),\n",
       "  array([0., 3., 9., ..., 2., 7., 9.])],\n",
       " 7: [array([0., 5., 5., ..., 7., 7., 0.]),\n",
       "  array([0., 3., 9., ..., 2., 7., 9.])],\n",
       " 9: [array([0., 5., 5., ..., 7., 7., 0.]),\n",
       "  array([0., 3., 9., ..., 2., 7., 9.])],\n",
       " 11: [array([0., 5., 5., ..., 7., 7., 0.]),\n",
       "  array([0., 3., 9., ..., 2., 7., 9.])],\n",
       " 13: [array([0., 5., 5., ..., 7., 7., 0.]),\n",
       "  array([0., 3., 9., ..., 2., 7., 9.])]}"
      ]
     },
     "execution_count": 229,
     "metadata": {},
     "output_type": "execute_result"
    }
   ],
   "source": [
    "k_pred = {}\n",
    "k_values = [1, 3, 5, 7, 9, 11, 13] \n",
    "\n",
    "for k in k_values:\n",
    "\n",
    "    # Instantiate the KNN model\n",
    "    knn = KNeighborsClassifier(n_neighbors=k)\n",
    "    # Train the model\n",
    "    knn.fit(X_train_scaled, y_train)\n",
    "\n",
    "    # Predict class labels for train and test input\n",
    "    y_pred_train = knn.predict(X_train_scaled)\n",
    "    y_pred_test = knn.predict(X_test_scaled)\n",
    "    \n",
    "    # Store training accuracy score and test accuracy scores \n",
    "    k_pred[k] = [y_pred_train, y_pred_test]\n",
    "\n",
    "k_pred"
   ]
  },
  {
   "cell_type": "code",
   "execution_count": 230,
   "id": "6801b9a4-67a5-4a6e-9fd2-3de35a19cd59",
   "metadata": {
    "id": "6801b9a4-67a5-4a6e-9fd2-3de35a19cd59"
   },
   "outputs": [
    {
     "name": "stdout",
     "output_type": "stream",
     "text": [
      "for k = 1:\n",
      "Accuracy on training set:  1.0\n",
      "Accuracy on test set:  0.9430666666666667 \n",
      "\n",
      "for k = 3:\n",
      "Accuracy on training set:  0.9707777777777777\n",
      "Accuracy on test set:  0.9442666666666667 \n",
      "\n",
      "for k = 5:\n",
      "Accuracy on training set:  0.9620666666666666\n",
      "Accuracy on test set:  0.9426 \n",
      "\n",
      "for k = 7:\n",
      "Accuracy on training set:  0.9568888888888889\n",
      "Accuracy on test set:  0.9405333333333333 \n",
      "\n",
      "for k = 9:\n",
      "Accuracy on training set:  0.9525555555555556\n",
      "Accuracy on test set:  0.9378666666666666 \n",
      "\n",
      "for k = 11:\n",
      "Accuracy on training set:  0.9485555555555556\n",
      "Accuracy on test set:  0.9362666666666667 \n",
      "\n",
      "for k = 13:\n",
      "Accuracy on training set:  0.9453333333333334\n",
      "Accuracy on test set:  0.9349333333333333 \n",
      "\n"
     ]
    },
    {
     "data": {
      "image/png": "[encoded data removed]",
      "text/plain": [
       "<Figure size 1000x400 with 1 Axes>"
      ]
     },
     "metadata": {},
     "output_type": "display_data"
    }
   ],
   "source": [
    "results = [] \n",
    "\n",
    "for k in k_values:\n",
    "    \n",
    "    train_accuracy = accuracy_score(k_pred[k][0], y_train) \n",
    "    test_accuracy = accuracy_score(k_pred[k][1], y_test)\n",
    "    \n",
    "    results.append([train_accuracy,test_accuracy])\n",
    "    \n",
    "    print(f'for k = {k}:')\n",
    "    print('Accuracy on training set: ', train_accuracy)\n",
    "    print('Accuracy on test set: ', test_accuracy, '\\n')\n",
    "\n",
    "fig = plt.figure(figsize=(10, 4))\n",
    "plt.plot(results, marker='o')\n",
    "plt.xticks(ticks=list(range(0, 7)), labels=['k=1', 'k=3', 'k=5', 'k=7', 'k=9', 'k=11', 'k=13'])\n",
    "plt.show()"
   ]
  },
  {
   "cell_type": "markdown",
   "id": "0f4a2547-55a1-4ead-93c9-80afe652af66",
   "metadata": {
    "tags": []
   },
   "source": [
    "# K=3 has the best training and test score overall"
   ]
  },
  {
   "cell_type": "code",
   "execution_count": 231,
   "id": "996fd283-d4fd-40c2-a3b3-47c37e60ebb8",
   "metadata": {},
   "outputs": [],
   "source": [
    "from sklearn.model_selection import GridSearchCV\n",
    "\n",
    "knn = KNeighborsClassifier()\n",
    "\n",
    "grid = GridSearchCV(knn, param_grid={'n_neighbors': [1, 3, 5, 7, 9, 11, 13]}, scoring='accuracy')\n",
    "\n",
    "grid_search = grid.fit(X_train_scaled, y_train)"
   ]
  },
  {
   "cell_type": "markdown",
   "id": "7d6ebf7e-f8e1-4f2e-a4ed-1ce22ad98be2",
   "metadata": {},
   "source": [
    "# GridSearchCV approves the best parameter that we found!"
   ]
  },
  {
   "cell_type": "code",
   "execution_count": 232,
   "id": "d8561751-6641-4c49-8348-7e5b398f15e6",
   "metadata": {},
   "outputs": [
    {
     "data": {
      "text/plain": [
       "{'n_neighbors': 3}"
      ]
     },
     "execution_count": 232,
     "metadata": {},
     "output_type": "execute_result"
    }
   ],
   "source": [
    "grid_search.best_params_"
   ]
  },
  {
   "cell_type": "markdown",
   "id": "927d0606-62bd-432f-99e9-89d49ad59894",
   "metadata": {},
   "source": [
    "# Choosing 0 & 1 as target labels"
   ]
  },
  {
   "cell_type": "code",
   "execution_count": 233,
   "id": "b85e823f-9765-49ac-8f86-b843afb89593",
   "metadata": {},
   "outputs": [
    {
     "data": {
      "text/plain": [
       "array([[0., 0., 0., ..., 0., 0., 0.],\n",
       "       [0., 0., 0., ..., 0., 0., 0.],\n",
       "       [0., 0., 0., ..., 0., 0., 0.],\n",
       "       ...,\n",
       "       [0., 0., 0., ..., 0., 0., 0.],\n",
       "       [0., 0., 0., ..., 0., 0., 0.],\n",
       "       [0., 0., 0., ..., 0., 0., 0.]])"
      ]
     },
     "execution_count": 233,
     "metadata": {},
     "output_type": "execute_result"
    }
   ],
   "source": [
    "# Choosing two classes for binary classficiation with svm, 0 & 1\n",
    "class_0_1 = pd.concat(\n",
    "    [dataset.loc[dataset['number'] == 0.0], dataset.loc[dataset['number'] == 1.0]]\n",
    ")\n",
    "\n",
    "scaler = StandardScaler()\n",
    "\n",
    "scaler.fit(class_0_1.iloc[:, :-1])\n",
    "\n",
    "class_0_1_scaled_X = scaler.transform(class_0_1.iloc[:, :-1])\n",
    "\n",
    "class_0_1_scaled_X"
   ]
  },
  {
   "cell_type": "code",
   "execution_count": 234,
   "id": "8f632430-2022-424d-a05b-b68052a48aff",
   "metadata": {},
   "outputs": [
    {
     "data": {
      "text/html": [
       "<style>#sk-container-id-4 {color: black;background-color: white;}#sk-container-id-4 pre{padding: 0;}#sk-container-id-4 div.sk-toggleable {background-color: white;}#sk-container-id-4 label.sk-toggleable__label {cursor: pointer;display: block;width: 100%;margin-bottom: 0;padding: 0.3em;box-sizing: border-box;text-align: center;}#sk-container-id-4 label.sk-toggleable__label-arrow:before {content: \"▸\";float: left;margin-right: 0.25em;color: #696969;}#sk-container-id-4 label.sk-toggleable__label-arrow:hover:before {color: black;}#sk-container-id-4 div.sk-estimator:hover label.sk-toggleable__label-arrow:before {color: black;}#sk-container-id-4 div.sk-toggleable__content {max-height: 0;max-width: 0;overflow: hidden;text-align: left;background-color: #f0f8ff;}#sk-container-id-4 div.sk-toggleable__content pre {margin: 0.2em;color: black;border-radius: 0.25em;background-color: #f0f8ff;}#sk-container-id-4 input.sk-toggleable__control:checked~div.sk-toggleable__content {max-height: 200px;max-width: 100%;overflow: auto;}#sk-container-id-4 input.sk-toggleable__control:checked~label.sk-toggleable__label-arrow:before {content: \"▾\";}#sk-container-id-4 div.sk-estimator input.sk-toggleable__control:checked~label.sk-toggleable__label {background-color: #d4ebff;}#sk-container-id-4 div.sk-label input.sk-toggleable__control:checked~label.sk-toggleable__label {background-color: #d4ebff;}#sk-container-id-4 input.sk-hidden--visually {border: 0;clip: rect(1px 1px 1px 1px);clip: rect(1px, 1px, 1px, 1px);height: 1px;margin: -1px;overflow: hidden;padding: 0;position: absolute;width: 1px;}#sk-container-id-4 div.sk-estimator {font-family: monospace;background-color: #f0f8ff;border: 1px dotted black;border-radius: 0.25em;box-sizing: border-box;margin-bottom: 0.5em;}#sk-container-id-4 div.sk-estimator:hover {background-color: #d4ebff;}#sk-container-id-4 div.sk-parallel-item::after {content: \"\";width: 100%;border-bottom: 1px solid gray;flex-grow: 1;}#sk-container-id-4 div.sk-label:hover label.sk-toggleable__label {background-color: #d4ebff;}#sk-container-id-4 div.sk-serial::before {content: \"\";position: absolute;border-left: 1px solid gray;box-sizing: border-box;top: 0;bottom: 0;left: 50%;z-index: 0;}#sk-container-id-4 div.sk-serial {display: flex;flex-direction: column;align-items: center;background-color: white;padding-right: 0.2em;padding-left: 0.2em;position: relative;}#sk-container-id-4 div.sk-item {position: relative;z-index: 1;}#sk-container-id-4 div.sk-parallel {display: flex;align-items: stretch;justify-content: center;background-color: white;position: relative;}#sk-container-id-4 div.sk-item::before, #sk-container-id-4 div.sk-parallel-item::before {content: \"\";position: absolute;border-left: 1px solid gray;box-sizing: border-box;top: 0;bottom: 0;left: 50%;z-index: -1;}#sk-container-id-4 div.sk-parallel-item {display: flex;flex-direction: column;z-index: 1;position: relative;background-color: white;}#sk-container-id-4 div.sk-parallel-item:first-child::after {align-self: flex-end;width: 50%;}#sk-container-id-4 div.sk-parallel-item:last-child::after {align-self: flex-start;width: 50%;}#sk-container-id-4 div.sk-parallel-item:only-child::after {width: 0;}#sk-container-id-4 div.sk-dashed-wrapped {border: 1px dashed gray;margin: 0 0.4em 0.5em 0.4em;box-sizing: border-box;padding-bottom: 0.4em;background-color: white;}#sk-container-id-4 div.sk-label label {font-family: monospace;font-weight: bold;display: inline-block;line-height: 1.2em;}#sk-container-id-4 div.sk-label-container {text-align: center;}#sk-container-id-4 div.sk-container {/* jupyter's `normalize.less` sets `[hidden] { display: none; }` but bootstrap.min.css set `[hidden] { display: none !important; }` so we also need the `!important` here to be able to override the default hidden behavior on the sphinx rendered scikit-learn.org. See: https://github.com/scikit-learn/scikit-learn/issues/21755 */display: inline-block !important;position: relative;}#sk-container-id-4 div.sk-text-repr-fallback {display: none;}</style><div id=\"sk-container-id-4\" class=\"sk-top-container\"><div class=\"sk-text-repr-fallback\"><pre>SVC(C=0.1, gamma=1, kernel=&#x27;linear&#x27;)</pre><b>In a Jupyter environment, please rerun this cell to show the HTML representation or trust the notebook. <br />On GitHub, the HTML representation is unable to render, please try loading this page with nbviewer.org.</b></div><div class=\"sk-container\" hidden><div class=\"sk-item\"><div class=\"sk-estimator sk-toggleable\"><input class=\"sk-toggleable__control sk-hidden--visually\" id=\"sk-estimator-id-4\" type=\"checkbox\" checked><label for=\"sk-estimator-id-4\" class=\"sk-toggleable__label sk-toggleable__label-arrow\">SVC</label><div class=\"sk-toggleable__content\"><pre>SVC(C=0.1, gamma=1, kernel=&#x27;linear&#x27;)</pre></div></div></div></div></div>"
      ],
      "text/plain": [
       "SVC(C=0.1, gamma=1, kernel='linear')"
      ]
     },
     "execution_count": 234,
     "metadata": {},
     "output_type": "execute_result"
    }
   ],
   "source": [
    "# Training the SVM model\n",
    "from sklearn.svm import SVC\n",
    "from sklearn.model_selection import GridSearchCV\n",
    "\n",
    "'''\n",
    "parameters = {\n",
    "    'C': [0.1,1, 10],\n",
    "    'gamma': [1,0.1,0.01],\n",
    "    'kernel': ['rbf', 'poly', 'sigmoid', 'linear']\n",
    "}\n",
    "'''\n",
    "\n",
    "svc = SVC(C=0.1, gamma=1, kernel='linear')\n",
    "\n",
    "svc.fit(class_0_1_scaled_X, class_0_1['number'])"
   ]
  },
  {
   "cell_type": "code",
   "execution_count": 235,
   "id": "c0820fd6-db1f-4247-8096-f4844d1f6f61",
   "metadata": {},
   "outputs": [],
   "source": [
    "from sklearn.model_selection import cross_val_score,KFold\n",
    "\n",
    "kf = KFold(n_splits=5)\n",
    "\n",
    "score = cross_val_score(svc, class_0_1_scaled_X, class_0_1['number'], cv=kf)"
   ]
  },
  {
   "cell_type": "code",
   "execution_count": 236,
   "id": "da4843fe-bbb6-45d6-92f9-83b79f0eef7d",
   "metadata": {},
   "outputs": [
    {
     "name": "stdout",
     "output_type": "stream",
     "text": [
      "Mean validation score for 5 folds: 0.9980260560600079\n"
     ]
    }
   ],
   "source": [
    "print(f\"Mean validation score for 5 folds: {score.mean()}\")"
   ]
  },
  {
   "cell_type": "code",
   "execution_count": 237,
   "id": "eab203bf-946f-445b-885b-b04942a48164",
   "metadata": {},
   "outputs": [],
   "source": [
    "# Training 45 different models for each pair of classes\n",
    "datasets = {}\n",
    "svc_models = {}\n",
    "\n",
    "for i in range(0, 10):\n",
    "    \n",
    "    for j in range(i + 1, 10):\n",
    "        \n",
    "            datasets[f'class_{i}_{j}'] = pd.concat(\n",
    "            [\n",
    "                dataset.loc[dataset['number'] == float(i)],\n",
    "                dataset.loc[dataset['number'] == float(j)]\n",
    "            ]\n",
    "        )\n",
    "\n",
    "            scaler = StandardScaler()\n",
    "\n",
    "            scaler.fit(datasets[f'class_{i}_{j}'].iloc[:, :-1])\n",
    "            scaled_X = scaler.transform(datasets[f'class_{i}_{j}'].iloc[:, :-1])\n",
    "            \n",
    "            svc = SVC(C=0.1, gamma=1, kernel='linear')\n",
    "            \n",
    "            svc.fit(scaled_X, datasets[f'class_{i}_{j}']['number'])\n",
    "            \n",
    "            kf = KFold(n_splits=5)\n",
    "            \n",
    "            svc_models[f'class_{i}_{j}_model'] = {\n",
    "                'model': svc,\n",
    "                'mean_score': (cross_val_score(svc, scaled_X, datasets[f'class_{i}_{j}']['number'], cv=kf)).mean()\n",
    "            }\n",
    "        "
   ]
  },
  {
   "cell_type": "markdown",
   "id": "db1f5986-e591-42eb-9859-de41dab3c70e",
   "metadata": {},
   "source": [
    "# Classes 7 & 9 are the hardest clasess for classifer to classify"
   ]
  },
  {
   "cell_type": "code",
   "execution_count": 238,
   "id": "d597ca5c-a855-404e-ad37-4a4c18462790",
   "metadata": {},
   "outputs": [
    {
     "data": {
      "text/plain": [
       "True"
      ]
     },
     "execution_count": 238,
     "metadata": {},
     "output_type": "execute_result"
    }
   ],
   "source": [
    "scores = []\n",
    "\n",
    "for i in range(0, 10):\n",
    "    for j in range(i+1, 10):\n",
    "        \n",
    "        scores.append(svc_models[f'class_{i}_{j}_model']['mean_score'])\n",
    "\n",
    "# The model for 7 & 9 classes has the smallest score\n",
    "min(scores) == svc_models['class_7_9_model']['mean_score']"
   ]
  },
  {
   "cell_type": "code",
   "execution_count": 239,
   "id": "5f5af8a7-347f-480b-82a3-9ce9d670dd21",
   "metadata": {},
   "outputs": [
    {
     "name": "stderr",
     "output_type": "stream",
     "text": [
      "100%|██████████| 9/9 [00:40<00:00,  4.49s/it]\n"
     ]
    }
   ],
   "source": [
    "from tqdm import tqdm \n",
    "\n",
    "model_pred = []\n",
    "\n",
    "for i in tqdm(range(0, 9)):\n",
    "    for j in range(i+1, 10):\n",
    "        \n",
    "        model = svc_models[f'class_{i}_{j}_model']['model']\n",
    "        \n",
    "        model_pred.append(model.predict(X_test_scaled).tolist())\n",
    "\n",
    "model_pred = np.array(model_pred)"
   ]
  },
  {
   "cell_type": "code",
   "execution_count": null,
   "id": "8e8e952f-cb08-4916-be51-c1ef5d49ea14",
   "metadata": {},
   "outputs": [],
   "source": [
    "\"\"\"\n",
    "Counting the predection per each row in the test dataset\n",
    "\"\"\"\n",
    "from collections import Counter\n",
    "\n",
    "\n",
    "final_pred = []\n",
    "\n",
    "for i in range(15000):\n",
    "    final_pred.append(Counter(model_pred[:, i]).most_common(1)[0][0])\n",
    "    \n",
    "final_pred = np.array(final_pred)"
   ]
  },
  {
   "cell_type": "code",
   "execution_count": 242,
   "id": "3463c01c-35d3-4bd0-9b53-6ff7ec0901f5",
   "metadata": {},
   "outputs": [
    {
     "data": {
      "text/plain": [
       "array([0., 3., 4., ..., 0., 7., 9.])"
      ]
     },
     "execution_count": 242,
     "metadata": {},
     "output_type": "execute_result"
    }
   ],
   "source": [
    "# The output of the model\n",
    "final_pred"
   ]
  },
  {
   "cell_type": "code",
   "execution_count": null,
   "id": "18cd4564-c440-4819-8597-8ae30164ee9f",
   "metadata": {},
   "outputs": [],
   "source": [
    "knn = KNeighborsClassifier(n_neighbors=3)\n",
    "\n",
    "knn.fit(X_train_scaled, y_train)\n",
    "\n",
    "knn_pred= knn.predict(X_test_scaled)"
   ]
  },
  {
   "cell_type": "code",
   "execution_count": 241,
   "id": "10ab230e-9caf-4e41-b6cc-16752c0b34ce",
   "metadata": {},
   "outputs": [
    {
     "name": "stdout",
     "output_type": "stream",
     "text": [
      "The acuuracy of the best KNN model on the test dataset: 0.9442666666666667\n",
      "\n",
      "The acuuracy of the SVM model on the test dataset: 0.9088\n",
      "\n"
     ]
    }
   ],
   "source": [
    "print(f\"The acuuracy of the best KNN model on the test dataset: {accuracy_score(knn_pred, y_test)}\\n\")\n",
    "print(f\"The acuuracy of the SVM model on the test dataset: {accuracy_score(final_pred, y_test)}\\n\")"
   ]
  },
  {
   "cell_type": "code",
   "execution_count": null,
   "id": "1f52b631-c0d8-478d-a7c1-a0972e286ff2",
   "metadata": {},
   "outputs": [],
   "source": []
  }
 ],
 "metadata": {
  "accelerator": "GPU",
  "colab": {
   "gpuType": "T4",
   "provenance": []
  },
  "gpuClass": "standard",
  "kernelspec": {
   "display_name": "Python 3 (ipykernel)",
   "language": "python",
   "name": "python3"
  },
  "language_info": {
   "codemirror_mode": {
    "name": "ipython",
    "version": 3
   },
   "file_extension": ".py",
   "mimetype": "text/x-python",
   "name": "python",
   "nbconvert_exporter": "python",
   "pygments_lexer": "ipython3",
   "version": "3.10.9"
  }
 },
 "nbformat": 4,
 "nbformat_minor": 5
}
